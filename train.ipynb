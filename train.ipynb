{
 "cells": [
  {
   "cell_type": "code",
   "execution_count": null,
   "metadata": {
    "collapsed": true
   },
   "outputs": [],
   "source": [
    "from utils.utils import *\n",
    "from train import train"
   ]
  },
  {
   "cell_type": "code",
   "execution_count": null,
   "metadata": {},
   "outputs": [],
   "source": [
    "cfg = 'cfg/yolov3.cfg'  # help='cfg file path\n",
    "data_cfg = 'data/coco.data'  # coco.data file path\n",
    "epochs = 273  # number of epochs\n",
    "batch_size = 16  # size of each image batch\n",
    "accumulate = 1  # accumulate gradient x batches before optimizing\n",
    "multi_scale = True  # random image sizes per batch 320 - 608\n",
    "img_size = 608  # pixels\n",
    "resume = False  # resume training flag\n",
    "transfer = False  # transfer learning flag\n",
    "num_workers = 4  # number of Pytorch DataLoader workers\n",
    "dist_url = 'tcp://127.0.0.1:9999'  # distributed training init method\n",
    "rank = 0,  # distributed training node rank\n",
    "world_size = 1  # number of nodes for distributed training\n",
    "backend = 'nccl'  # distributed backend\n",
    "nosave = False  # do not save training results\n",
    "\n",
    "\n",
    "init_seeds()"
   ]
  },
  {
   "cell_type": "code",
   "execution_count": null,
   "metadata": {},
   "outputs": [],
   "source": [
    "train(\n",
    "    cfg,\n",
    "    data_cfg,\n",
    "    img_size=img_size,\n",
    "    resume=resume or transfer,\n",
    "    transfer=transfer,\n",
    "    epochs=epochs,\n",
    "    batch_size=batch_size,\n",
    "    accumulate=accumulate,\n",
    "    multi_scale=multi_scale,\n",
    "    num_workers=num_workers\n",
    ")"
   ]
  }
 ],
 "metadata": {
  "kernelspec": {
   "display_name": "py36-test",
   "language": "python",
   "name": "py36-test"
  },
  "language_info": {
   "codemirror_mode": {
    "name": "ipython",
    "version": 2
   },
   "file_extension": ".py",
   "mimetype": "text/x-python",
   "name": "python",
   "nbconvert_exporter": "python",
   "pygments_lexer": "ipython2",
   "version": "2.7.6"
  }
 },
 "nbformat": 4,
 "nbformat_minor": 1
}
